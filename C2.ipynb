{
 "cells": [
  {
   "cell_type": "code",
   "execution_count": 1,
   "id": "d1825b38",
   "metadata": {},
   "outputs": [],
   "source": [
    "def dfs_helper(graph):\n",
    "    n = len(graph.keys())\n",
    "    v = [-1 for i in range(n)]\n",
    "    dfs(graph,0,v)\n",
    "def dfs(graph,start,v):\n",
    "    if v[start] == 1:\n",
    "        return\n",
    "    v[start] = 1\n",
    "    print(start,end=\" \")\n",
    "    adj = graph[start]\n",
    "    for i in adj:\n",
    "        dfs(graph,i,v)"
   ]
  },
  {
   "cell_type": "code",
   "execution_count": 2,
   "id": "dc07fbd0",
   "metadata": {},
   "outputs": [
    {
     "name": "stdout",
     "output_type": "stream",
     "text": [
      "DFS :  0 1 3 4 2 5 "
     ]
    },
    {
     "data": {
      "text/plain": [
       "<function print>"
      ]
     },
     "execution_count": 2,
     "metadata": {},
     "output_type": "execute_result"
    }
   ],
   "source": [
    "graph = {0:[1,3,5,2],1:[3,5,2,4],2:[0,3,1],3:[4,5,0],4:[2,3],5:[2,4]}\n",
    "print(\"DFS : \",end=\" \")\n",
    "dfs_helper(graph)\n",
    "print"
   ]
  }
 ],
 "metadata": {
  "kernelspec": {
   "display_name": "Python 3 (ipykernel)",
   "language": "python",
   "name": "python3"
  },
  "language_info": {
   "codemirror_mode": {
    "name": "ipython",
    "version": 3
   },
   "file_extension": ".py",
   "mimetype": "text/x-python",
   "name": "python",
   "nbconvert_exporter": "python",
   "pygments_lexer": "ipython3",
   "version": "3.10.9"
  }
 },
 "nbformat": 4,
 "nbformat_minor": 5
}
