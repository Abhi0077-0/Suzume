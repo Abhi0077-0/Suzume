{
 "cells": [
  {
   "cell_type": "code",
   "execution_count": 1,
   "id": "b42b2694",
   "metadata": {},
   "outputs": [
    {
     "name": "stdout",
     "output_type": "stream",
     "text": [
      "Name: John Doe\n",
      "Age: 25\n",
      "City: New York\n",
      "All Information:\n",
      "Name: John Doe\n",
      "City: New York\n"
     ]
    }
   ],
   "source": [
    "class InformationManagementExpert:\n",
    "    def __init__(self):\n",
    "        self.data = {}\n",
    "\n",
    "    def add_information(self, key, value):\n",
    "        self.data[key] = value\n",
    "\n",
    "    def get_information(self, key):\n",
    "        if key in self.data:\n",
    "            return self.data[key]\n",
    "        else:\n",
    "            return None\n",
    "\n",
    "    def remove_information(self, key):\n",
    "        if key in self.data:\n",
    "            del self.data[key]\n",
    "\n",
    "    def get_all_information(self):\n",
    "        return self.data\n",
    "\n",
    "\n",
    "# Usage example:\n",
    "info_expert = InformationManagementExpert()\n",
    "\n",
    "# Adding information\n",
    "info_expert.add_information(\"Name\", \"John Doe\")\n",
    "info_expert.add_information(\"Age\", 25)\n",
    "info_expert.add_information(\"City\", \"New York\")\n",
    "\n",
    "# Getting individual information\n",
    "name = info_expert.get_information(\"Name\")\n",
    "age = info_expert.get_information(\"Age\")\n",
    "city = info_expert.get_information(\"City\")\n",
    "print(\"Name:\", name)\n",
    "print(\"Age:\", age)\n",
    "print(\"City:\", city)\n",
    "\n",
    "# Removing information\n",
    "info_expert.remove_information(\"Age\")\n",
    "\n",
    "# Getting all information\n",
    "all_info = info_expert.get_all_information()\n",
    "print(\"All Information:\")\n",
    "for key, value in all_info.items():\n",
    "    print(key + \":\", value)\n"
   ]
  },
  {
   "cell_type": "code",
   "execution_count": null,
   "id": "0795c22d",
   "metadata": {},
   "outputs": [],
   "source": []
  }
 ],
 "metadata": {
  "kernelspec": {
   "display_name": "Python 3 (ipykernel)",
   "language": "python",
   "name": "python3"
  },
  "language_info": {
   "codemirror_mode": {
    "name": "ipython",
    "version": 3
   },
   "file_extension": ".py",
   "mimetype": "text/x-python",
   "name": "python",
   "nbconvert_exporter": "python",
   "pygments_lexer": "ipython3",
   "version": "3.10.9"
  }
 },
 "nbformat": 4,
 "nbformat_minor": 5
}
