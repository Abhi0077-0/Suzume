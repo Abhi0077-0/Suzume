{
 "cells": [
  {
   "cell_type": "code",
   "execution_count": 2,
   "id": "178f0ac1",
   "metadata": {},
   "outputs": [],
   "source": [
    "def bbb(n,chess,rows,slash,backslash,cols):\n",
    "    if cols == n:\n",
    "        return True\n",
    "    for i in range(n):\n",
    "        flag = 0\n",
    "        if rows[i] == True:\n",
    "            flag += 1\n",
    "        if ((cols-i) + (n-1)) in backslash:\n",
    "            flag += 1\n",
    "        if (cols + i) in slash:\n",
    "            flag += 1\n",
    "        if flag == 0:\n",
    "            chess[i][cols] = \"Q\"\n",
    "            backslash.append(((cols-i) + (n-1)))\n",
    "            slash.append(cols+i)\n",
    "            rows[i] = True\n",
    "            ans = bbb(n,chess,rows,slash,backslash,cols+1)\n",
    "            if ans == False:\n",
    "                slash.pop()\n",
    "                backslash.pop()\n",
    "                chess[i][cols] = 1\n",
    "                rows[i] = False\n",
    "            else:\n",
    "                if cols == 0:\n",
    "                    return chess\n",
    "                return ans\n",
    "    return False"
   ]
  },
  {
   "cell_type": "code",
   "execution_count": 3,
   "id": "0d48a0ef",
   "metadata": {},
   "outputs": [
    {
     "name": "stdout",
     "output_type": "stream",
     "text": [
      "5\n",
      "Q 1 1 1 1 \n",
      "1 1 1 Q 1 \n",
      "1 Q 1 1 1 \n",
      "1 1 1 1 Q \n",
      "1 1 Q 1 1 \n"
     ]
    }
   ],
   "source": [
    "n = int(input())\n",
    "chess = [[1 for _ in range(n)] for __ in range(n)]\n",
    "rows = [False for i in range(n)]\n",
    "backslash = []\n",
    "slash = []\n",
    "ans = bbb(n,chess,rows,slash,backslash,0)\n",
    "for i in range(n):\n",
    "    for j in range(n):\n",
    "        print(ans[i][j],end=\" \")\n",
    "    print()\n",
    "    "
   ]
  },
  {
   "cell_type": "code",
   "execution_count": 8,
   "id": "6a5bf6cf",
   "metadata": {},
   "outputs": [],
   "source": [
    "class GraphColoring:\n",
    "    def __init__(self, graph, colors):\n",
    "        self.graph = graph\n",
    "        self.num_vertices = len(graph)\n",
    "        self.colors = colors\n",
    "        self.assignment = [None] * self.num_vertices\n",
    "        self.solutions = []\n",
    "\n",
    "    def solve(self):\n",
    "        self.backtrack(0)\n",
    "        return self.solutions\n",
    "\n",
    "    def backtrack(self, vertex):\n",
    "        if vertex == self.num_vertices:\n",
    "            # Solution found, add to solutions list\n",
    "            self.solutions.append(self.assignment[:])\n",
    "            return\n",
    "\n",
    "        for color in self.colors:\n",
    "            if self.is_safe(vertex, color):\n",
    "                self.assignment[vertex] = color\n",
    "                self.backtrack(vertex + 1)\n",
    "                self.assignment[vertex] = None\n",
    "\n",
    "    def is_safe(self, vertex, color):\n",
    "        for i in range(self.num_vertices):\n",
    "            if self.graph[vertex][i] == 1 and self.assignment[i] == color:\n",
    "                return False\n",
    "        return True"
   ]
  },
  {
   "cell_type": "code",
   "execution_count": 9,
   "id": "2dafe1d6",
   "metadata": {},
   "outputs": [
    {
     "name": "stdout",
     "output_type": "stream",
     "text": [
      "Solutions found:\n",
      "Solution 1:\n",
      "Vertex 1 - Color: Red\n",
      "Vertex 2 - Color: Green\n",
      "Vertex 3 - Color: Blue\n",
      "Vertex 4 - Color: Green\n",
      "\n",
      "Solution 2:\n",
      "Vertex 1 - Color: Red\n",
      "Vertex 2 - Color: Blue\n",
      "Vertex 3 - Color: Green\n",
      "Vertex 4 - Color: Blue\n",
      "\n",
      "Solution 3:\n",
      "Vertex 1 - Color: Green\n",
      "Vertex 2 - Color: Red\n",
      "Vertex 3 - Color: Blue\n",
      "Vertex 4 - Color: Red\n",
      "\n",
      "Solution 4:\n",
      "Vertex 1 - Color: Green\n",
      "Vertex 2 - Color: Blue\n",
      "Vertex 3 - Color: Red\n",
      "Vertex 4 - Color: Blue\n",
      "\n",
      "Solution 5:\n",
      "Vertex 1 - Color: Blue\n",
      "Vertex 2 - Color: Red\n",
      "Vertex 3 - Color: Green\n",
      "Vertex 4 - Color: Red\n",
      "\n",
      "Solution 6:\n",
      "Vertex 1 - Color: Blue\n",
      "Vertex 2 - Color: Green\n",
      "Vertex 3 - Color: Red\n",
      "Vertex 4 - Color: Green\n",
      "\n"
     ]
    }
   ],
   "source": [
    "# Define the graph as an adjacency matrix\n",
    "graph = [\n",
    "    [0, 1, 1, 1],\n",
    "    [1, 0, 1, 0],\n",
    "    [1, 1, 0, 1],\n",
    "    [1, 0, 1, 0]\n",
    "]\n",
    "\n",
    "# Define the available colors\n",
    "colors = [\"Red\", \"Green\", \"Blue\"]\n",
    "\n",
    "graph_coloring = GraphColoring(graph, colors)\n",
    "solutions = graph_coloring.solve()\n",
    "\n",
    "if len(solutions) > 0:\n",
    "    print(\"Solutions found:\")\n",
    "    for i, solution in enumerate(solutions):\n",
    "        print(f\"Solution {i + 1}:\")\n",
    "        for vertex, color in enumerate(solution):\n",
    "            print(f\"Vertex {vertex + 1} - Color: {color}\")\n",
    "        print()\n",
    "else:\n",
    "    print(\"No solutions found.\")"
   ]
  }
 ],
 "metadata": {
  "kernelspec": {
   "display_name": "Python 3 (ipykernel)",
   "language": "python",
   "name": "python3"
  },
  "language_info": {
   "codemirror_mode": {
    "name": "ipython",
    "version": 3
   },
   "file_extension": ".py",
   "mimetype": "text/x-python",
   "name": "python",
   "nbconvert_exporter": "python",
   "pygments_lexer": "ipython3",
   "version": "3.10.9"
  }
 },
 "nbformat": 4,
 "nbformat_minor": 5
}
