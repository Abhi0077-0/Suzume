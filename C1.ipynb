{
 "cells": [
  {
   "cell_type": "code",
   "execution_count": 8,
   "id": "70338904",
   "metadata": {},
   "outputs": [],
   "source": [
    "def bfs_helper(graph):\n",
    "    n = len(graph.keys())\n",
    "    v = [-1 for i in range(n)]\n",
    "    queue = [0]\n",
    "    bfs(graph,v,queue)\n",
    "\n",
    "def bfs(graph,v,queue):\n",
    "    while queue != [] and v[queue[0]] != -1:\n",
    "        queue.pop(0)\n",
    "    if queue == []:\n",
    "        return\n",
    "    ele = queue[0]\n",
    "    v[ele] = 1\n",
    "    print(ele,end=\" \")\n",
    "    adj = graph[ele]\n",
    "    queue.pop(0)\n",
    "    for i in adj:\n",
    "        if v[i] == -1:\n",
    "            queue.append(i)\n",
    "    if queue == []:\n",
    "        return\n",
    "    bfs(graph,v,queue)"
   ]
  },
  {
   "cell_type": "code",
   "execution_count": 9,
   "id": "3f534113",
   "metadata": {},
   "outputs": [
    {
     "name": "stdout",
     "output_type": "stream",
     "text": [
      "DFS :  0 1 3 5 2 4 "
     ]
    },
    {
     "data": {
      "text/plain": [
       "<function print>"
      ]
     },
     "execution_count": 9,
     "metadata": {},
     "output_type": "execute_result"
    }
   ],
   "source": [
    "graph = {0:[1,3,5,2],1:[3,5,2,4],2:[0,3,1],3:[4,5,0],4:[2,3],5:[2,4]}\n",
    "print(\"DFS : \",end=\" \")\n",
    "bfs_helper(graph)\n",
    "print"
   ]
  }
 ],
 "metadata": {
  "kernelspec": {
   "display_name": "Python 3 (ipykernel)",
   "language": "python",
   "name": "python3"
  },
  "language_info": {
   "codemirror_mode": {
    "name": "ipython",
    "version": 3
   },
   "file_extension": ".py",
   "mimetype": "text/x-python",
   "name": "python",
   "nbconvert_exporter": "python",
   "pygments_lexer": "ipython3",
   "version": "3.10.9"
  }
 },
 "nbformat": 4,
 "nbformat_minor": 5
}
